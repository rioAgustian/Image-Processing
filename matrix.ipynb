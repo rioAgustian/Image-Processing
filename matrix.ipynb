{
  "nbformat": 4,
  "nbformat_minor": 0,
  "metadata": {
    "colab": {
      "provenance": [],
      "authorship_tag": "ABX9TyOWhYe428ciRWyL/jyzGg/I",
      "include_colab_link": true
    },
    "kernelspec": {
      "name": "python3",
      "display_name": "Python 3"
    },
    "language_info": {
      "name": "python"
    }
  },
  "cells": [
    {
      "cell_type": "markdown",
      "metadata": {
        "id": "view-in-github",
        "colab_type": "text"
      },
      "source": [
        "<a href=\"https://colab.research.google.com/github/rioAgustian/Image-Processing/blob/main/matrix.ipynb\" target=\"_parent\"><img src=\"https://colab.research.google.com/assets/colab-badge.svg\" alt=\"Open In Colab\"/></a>"
      ]
    },
    {
      "cell_type": "code",
      "execution_count": 10,
      "metadata": {
        "colab": {
          "base_uri": "https://localhost:8080/"
        },
        "id": "ulcTrzs50iF1",
        "outputId": "042731a7-b934-4846-efd2-91062c6f05d0"
      },
      "outputs": [
        {
          "output_type": "execute_result",
          "data": {
            "text/plain": [
              "array([1, 2, 3, 4, 5, 6, 7, 8, 9])"
            ]
          },
          "metadata": {},
          "execution_count": 10
        }
      ],
      "source": [
        "import numpy as np\n",
        "\n",
        "# penulisan matriks\n",
        "a = [[1, 2, 3],\n",
        "     [4, 5, 6],\n",
        "     [7, 8, 9]]\n",
        "b = [[1, 1, 1],\n",
        "     [2, 3, 2],\n",
        "     [3, 3, 3]]\n",
        "\n",
        "# Perbedaan antara np.matrix dan np.array adalah saat dilakukan operasi \n",
        "# perkalian \"*\", np.matrix memberikan hasil dot product. Sedangkan, np.array\n",
        "# memberikan hasil perkalian antara masing-masing komponen yang bersesuaian.\n",
        "\n",
        "# Mengubah list menjadi numpy.ndarray\n",
        "A = np.array(a)\n",
        "B = np.array(b)\n",
        "\n",
        "# Untuk mengetahui dimensi matriks\n",
        "dim = B.shape \n",
        "\n",
        "# merujuk matriks\n",
        "# M[baris, kolom]\n",
        "\n",
        "# Matriks khusus\n",
        "C = np.ones((3, 3)) \n",
        "D = np.zeros((3, 3))\n",
        "R = np.random.normal(0, 1, (3, 3))\n",
        "\n",
        "# Operasi matriks\n",
        "M1 = A * B        # perkalian yang bersesuaian\n",
        "M2 = A @ B        # dot product\n",
        "M3 = np.dot(A, B) # ini juga dot product\n",
        "M4 = A + B\n",
        "M5 = A - B\n",
        "\n",
        "# Transpose\n",
        "trs1 = A.T\n",
        "trs2 = A.transpose()\n",
        "trs3 = np.transpose(A)\n",
        "\n",
        "# Menghitung jumlahan komponen diagonal\n",
        "tre1 = A.trace()\n",
        "tre2 = sum(A.diagonal())\n",
        "\n",
        "# Determinan\n",
        "det = np.linalg.det(A)\n",
        "\n",
        "# Invers matriks\n",
        "x1 = np.linalg.pinv(A) # pakai pseudo invers jika matriks singular (det == 0).\n",
        "x2 = np.linalg.pinv(B)\n",
        "\n",
        "# Eigenvector \n",
        "w, v = np.linalg.eig(A)\n",
        "# w itu nilai eigen\n",
        "# v itu vektor eigen\n",
        "\n",
        "# Membuat matriks menjadi 1 dimensi\n",
        "d1 = A.flatten()"
      ]
    }
  ]
}